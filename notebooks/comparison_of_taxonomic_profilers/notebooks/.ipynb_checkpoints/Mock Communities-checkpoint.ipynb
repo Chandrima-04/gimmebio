{
 "cells": [
  {
   "cell_type": "code",
   "execution_count": 1,
   "metadata": {
    "collapsed": false
   },
   "outputs": [
    {
     "name": "stdout",
     "output_type": "stream",
     "text": [
      "Populating the interactive namespace from numpy and matplotlib\n"
     ]
    }
   ],
   "source": [
    "import warnings\n",
    "warnings.filterwarnings('ignore')\n",
    "\n",
    "%load_ext rpy2.ipython\n",
    "\n",
    "%run ../notebook-init.py\n",
    "\n",
    "# load R libraries                                                                                    \n",
    "%R invisible(library(ggplot2))\n",
    "%R invisible(library(fastcluster))\n",
    "%R invisible(library(reshape))\n",
    "%R invisible(library(reshape2))\n",
    "%R invisible(library(gplots))\n",
    "%R invisible(library(RSQLite))\n",
    "\n",
    "#set up ggplot2 defaults                                                                              \n",
    "%R theme_set(theme_gray(base_size=18))\n",
    "\n",
    "%pylab inline\n",
    "pylab.rcParams['figure.figsize'] = (20, 20)\n",
    "\n"
   ]
  },
  {
   "cell_type": "code",
   "execution_count": null,
   "metadata": {
    "collapsed": false
   },
   "outputs": [],
   "source": [
    "import gzip\n",
    "\n",
    "mockfiles = [\n",
    "    '/gfs/work/ddanko/taxonomic_profiler_comparison/analysis/actual/mock-a/setA1-1.fq.gz'   \n",
    "]\n",
    "\n",
    "mockproportions = {}\n",
    "for mockf in mockfiles:\n",
    "    thismock = {}\n",
    "    with gzip.open(mockf) as mf:\n",
    "        for i,line in enumerate(mf):\n",
    "            if i % 4 == 0:\n",
    "                id = '_'.join(line.split('_')[1:-1])\n",
    "                if id not in thismock:\n",
    "                    thismock[id] = 0\n",
    "                thismock[id] += 1\n",
    "    mockproportions[mockf] = thismock"
   ]
  },
  {
   "cell_type": "code",
   "execution_count": null,
   "metadata": {
    "collapsed": false
   },
   "outputs": [],
   "source": [
    "len(thismock.keys())"
   ]
  },
  {
   "cell_type": "code",
   "execution_count": null,
   "metadata": {
    "collapsed": false
   },
   "outputs": [],
   "source": [
    "for k,v in thismock.items():\n",
    "    print(\"{} : {}\".format(k,v))"
   ]
  },
  {
   "cell_type": "code",
   "execution_count": null,
   "metadata": {
    "collapsed": true
   },
   "outputs": [],
   "source": []
  }
 ],
 "metadata": {
  "kernelspec": {
   "display_name": "Python 2",
   "language": "python",
   "name": "python2"
  },
  "language_info": {
   "codemirror_mode": {
    "name": "ipython",
    "version": 2
   },
   "file_extension": ".py",
   "mimetype": "text/x-python",
   "name": "python",
   "nbconvert_exporter": "python",
   "pygments_lexer": "ipython2",
   "version": "2.7.11"
  }
 },
 "nbformat": 4,
 "nbformat_minor": 0
}
