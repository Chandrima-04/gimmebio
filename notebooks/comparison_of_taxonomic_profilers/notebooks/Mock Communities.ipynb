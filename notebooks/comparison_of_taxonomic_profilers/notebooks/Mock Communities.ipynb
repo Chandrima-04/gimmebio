{
 "cells": [
  {
   "cell_type": "code",
   "execution_count": 1,
   "metadata": {
    "collapsed": false
   },
   "outputs": [
    {
     "name": "stdout",
     "output_type": "stream",
     "text": [
      "Populating the interactive namespace from numpy and matplotlib\n"
     ]
    }
   ],
   "source": [
    "import warnings\n",
    "warnings.filterwarnings('ignore')\n",
    "\n",
    "%load_ext rpy2.ipython\n",
    "\n",
    "%run ../notebook-init.py\n",
    "\n",
    "# load R libraries                                                                                    \n",
    "%R invisible(library(ggplot2))\n",
    "%R invisible(library(fastcluster))\n",
    "%R invisible(library(reshape))\n",
    "%R invisible(library(reshape2))\n",
    "%R invisible(library(gplots))\n",
    "%R invisible(library(RSQLite))\n",
    "\n",
    "#set up ggplot2 defaults                                                                              \n",
    "%R theme_set(theme_gray(base_size=18))\n",
    "\n",
    "%pylab inline\n",
    "pylab.rcParams['figure.figsize'] = (20, 20)\n",
    "\n"
   ]
  },
  {
   "cell_type": "code",
   "execution_count": 34,
   "metadata": {
    "collapsed": false
   },
   "outputs": [],
   "source": [
    "import gzip\n",
    "\n",
    "mockfiles = [\n",
    "    '/gfs/work/ddanko/taxonomic_profiler_comparison/analysis/actual/mock-a/setA1-1.fq.gz',\n",
    "    '/gfs/work/ddanko/taxonomic_profiler_comparison/analysis/actual/mock-a/setA2-1.fq.gz',\n",
    "    '/gfs/work/ddanko/taxonomic_profiler_comparison/analysis/actual/mock-a/setA3-1.fq.gz',\n",
    "    '/gfs/work/ddanko/taxonomic_profiler_comparison/analysis/actual/mock-b/setB1-1.fq.gz',\n",
    "    '/gfs/work/ddanko/taxonomic_profiler_comparison/analysis/actual/mock-b/setB2-1.fq.gz',\n",
    "    '/gfs/work/ddanko/taxonomic_profiler_comparison/analysis/actual/mock-b/setB3-1.fq.gz',\n",
    "    \n",
    "]\n",
    "\n",
    "mockproportions = {}\n",
    "for mockf in mockfiles:\n",
    "    thismock = {}\n",
    "    with gzip.open(mockf) as mf:\n",
    "        for i,line in enumerate(mf):\n",
    "            if i % 4 == 0:\n",
    "                id = line.split('_')\n",
    "                if len(id) == 3:\n",
    "                    id = id[1]\n",
    "                else:\n",
    "                    id = id[-2]\n",
    "                if id not in thismock:\n",
    "                    thismock[id] = 0\n",
    "                thismock[id] += 1\n",
    "    mockproportions[mockf] = thismock\n",
    "    "
   ]
  },
  {
   "cell_type": "code",
   "execution_count": 123,
   "metadata": {
    "collapsed": true
   },
   "outputs": [],
   "source": [
    "mProps = {}\n",
    "for k,v in mockproportions.items():\n",
    "    name = k.split('/')[-1].split('.')[0]\n",
    "    mProps[name] = v"
   ]
  },
  {
   "cell_type": "code",
   "execution_count": 124,
   "metadata": {
    "collapsed": true
   },
   "outputs": [],
   "source": [
    "import gzip\n",
    "import glob\n",
    "\n",
    "\n",
    "def processFile(f):\n",
    "    out = {}\n",
    "    with gzip.open(f) as kf:\n",
    "        kf.readline()\n",
    "        for line in kf:\n",
    "            line = line.split()\n",
    "            out[line[0].strip()] = int(line[1])\n",
    "    return out\n",
    "\n",
    "def main(files):\n",
    "    \n",
    "    kProps = {}\n",
    "    for f in files:\n",
    "        out = processFile(f)\n",
    "        name = f.split('/')[-1].split('.')[0]\n",
    "        kProps[name] = out\n",
    "    return kProps\n",
    "\n",
    "\n",
    "\n",
    "files = glob.glob('../mock/setA/kraken/*.tsv.gz')\n",
    "kProps = main(files)"
   ]
  },
  {
   "cell_type": "code",
   "execution_count": 125,
   "metadata": {
    "collapsed": true
   },
   "outputs": [],
   "source": [
    "import gzip\n",
    "import glob\n",
    "\n",
    "\n",
    "def processFile(f):\n",
    "    out = {}\n",
    "    with gzip.open(f) as kf:\n",
    "        kf.readline()\n",
    "        for line in kf:\n",
    "            line = line.split()\n",
    "            out[line[0].strip()] = int(line[1])\n",
    "    return out\n",
    "\n",
    "def main(files):\n",
    "    \n",
    "    kProps = {}\n",
    "    for f in files:\n",
    "        out = processFile(f)\n",
    "        name = f.split('/')[-1].split('.')[0]\n",
    "        kProps[name] = out\n",
    "    return kProps\n",
    "\n",
    "\n",
    "\n",
    "files = glob.glob('../mock/setA/dmnd-fast/*.tsv.gz')\n",
    "dProps = main(files)"
   ]
  },
  {
   "cell_type": "code",
   "execution_count": 126,
   "metadata": {
    "collapsed": false
   },
   "outputs": [],
   "source": [
    "import gzip\n",
    "import glob\n",
    "\n",
    "\n",
    "def processFile(f):\n",
    "    out = {}\n",
    "    with open(f) as kf:\n",
    "        kf.readline()\n",
    "        for line in kf:\n",
    "            line = line.split()\n",
    "            if len(line[0].split('|')) == 2:\n",
    "                k = line[0].split('|')[1].split('__')[1]\n",
    "                out[k] = float(line[1])\n",
    "    return out\n",
    "\n",
    "def main(files):\n",
    "    \n",
    "    pProps = {}\n",
    "    for f in files:\n",
    "        out = processFile(f)\n",
    "        name = f.split('/')[-1].split('.')[0]\n",
    "        pProps[name] = out\n",
    "    return pProps\n",
    "\n",
    "\n",
    "\n",
    "files = glob.glob('../mock/setA/mphlan/*.tsv')\n",
    "pProps = main(files)\n"
   ]
  },
  {
   "cell_type": "code",
   "execution_count": 147,
   "metadata": {
    "collapsed": false
   },
   "outputs": [],
   "source": [
    "import math\n",
    "\n",
    "def logOdds(A,B,intersect=False):\n",
    "    slo = 0 \n",
    "    aN = float(sum(A.values()))\n",
    "    bN = float(sum(B.values()))\n",
    "    if intersect:\n",
    "        items = set(A.keys()) & set(B.keys())\n",
    "    else:\n",
    "        items = set(A.keys()) | set(B.keys())\n",
    "\n",
    "    for k in items:\n",
    "        if k in A:\n",
    "            a = A[k] / aN\n",
    "        else:\n",
    "            a = 0.000001\n",
    "        if k in B:\n",
    "            b = B[k] / bN\n",
    "        else:\n",
    "            b = 0.000001\n",
    "        slo += abs(math.log(a/b))\n",
    "    return slo\n",
    "        \n",
    "    "
   ]
  },
  {
   "cell_type": "code",
   "execution_count": 148,
   "metadata": {
    "collapsed": false
   },
   "outputs": [
    {
     "data": {
      "text/plain": [
       "{'setA1-1': (112.45605531560561, 5.319373040732865),\n",
       " 'setA2-1': (109.10731942166358, 5.321197592924918),\n",
       " 'setA3-1': (114.78276808277116, 5.320803509234568)}"
      ]
     },
     "execution_count": 148,
     "metadata": {},
     "output_type": "execute_result"
    }
   ],
   "source": [
    "kSLO = {}\n",
    "\n",
    "for kName, kSet in kProps.items():\n",
    "    mSet = mProps[kName]\n",
    "    slo = logOdds(kSet,mSet)\n",
    "    sloI = logOdds(kSet,mSet,intersect=True)\n",
    "    kSLO[kName] = (slo,sloI)\n",
    "kSLO"
   ]
  },
  {
   "cell_type": "code",
   "execution_count": 149,
   "metadata": {
    "collapsed": false
   },
   "outputs": [
    {
     "data": {
      "text/plain": [
       "{'setA1-1': (191.4206824336394, 4.569518709613055),\n",
       " 'setA2-1': (192.60419985091957, 4.561520091517437),\n",
       " 'setA3-1': (190.04755567303644, 4.567753909457832)}"
      ]
     },
     "execution_count": 149,
     "metadata": {},
     "output_type": "execute_result"
    }
   ],
   "source": [
    "dSLO = {}\n",
    "\n",
    "for dName, dSet in dProps.items():\n",
    "    mSet = mProps[dName]\n",
    "    slo = logOdds(dSet,mSet)\n",
    "    sloI = logOdds(dSet,mSet,intersect=True)\n",
    "    dSLO[dName] = (slo,sloI)\n",
    "dSLO"
   ]
  },
  {
   "cell_type": "code",
   "execution_count": 150,
   "metadata": {
    "collapsed": false
   },
   "outputs": [
    {
     "data": {
      "text/plain": [
       "{'setA1-1': (96.86292822979848, 7.410254380699126),\n",
       " 'setA2-1': (101.23120143048733, 7.362521408883285),\n",
       " 'setA3-1': (100.51674043726798, 7.30320016283023)}"
      ]
     },
     "execution_count": 150,
     "metadata": {},
     "output_type": "execute_result"
    }
   ],
   "source": [
    "pSLO = {}\n",
    "\n",
    "for pName, pSet in pProps.items():\n",
    "    mSet = mProps[pName]\n",
    "    slo = logOdds(pSet,mSet)\n",
    "    sloI = logOdds(pSet,mSet,intersect=True)\n",
    "    pSLO[pName] = (slo,sloI)\n",
    "pSLO"
   ]
  },
  {
   "cell_type": "code",
   "execution_count": 194,
   "metadata": {
    "collapsed": false
   },
   "outputs": [
    {
     "name": "stdout",
     "output_type": "stream",
     "text": [
      "                            actual  metaphlan     kraken       dmnd\n",
      "Acidobacteria            3440619.0   14.47035  3411925.0  2415589.0\n",
      "Actinobacteria           2631062.0   12.19163  2608543.0        0.0\n",
      "Actinobacteria_<phylum>        0.0    0.00000        0.0  1950003.0\n",
      "Aquificae                      0.0    0.00000       21.0        0.0\n",
      "Aquificae_<phylum>             0.0    0.00000        0.0     2734.0\n",
      "                            actual  metaphlan     kraken       dmnd\n",
      "Acidobacteria            3407178.0   14.38538  3377120.0  2394821.0\n",
      "Actinobacteria           2605489.0   12.37805  2581533.0        0.0\n",
      "Actinobacteria_<phylum>        0.0    0.00000        0.0  1930464.0\n",
      "Aquificae                      0.0    0.00000       10.0        0.0\n",
      "Aquificae_<phylum>             0.0    0.00000        0.0     2622.0\n"
     ]
    }
   ],
   "source": [
    "import pandas as pd\n",
    "\n",
    "allKeys = set(mProps.keys()) | set(pProps.keys()) | set(kProps.keys()) | set(dProps.keys())\n",
    "\n",
    "\n",
    "a1 = pd.DataFrame([mProps['setA1-1'],pProps['setA1-1'],kProps['setA1-1'],dProps['setA1-1']]).transpose()\n",
    "a1.columns = ['actual','metaphlan','kraken','dmnd']\n",
    "a1 = a1.fillna(0)\n",
    "\n",
    "a2 = pd.DataFrame([mProps['setA2-1'],pProps['setA2-1'],kProps['setA2-1'],dProps['setA2-1']]).transpose()\n",
    "a2.columns = ['actual','metaphlan','kraken','dmnd']\n",
    "a2 = a2.fillna(0)\n",
    "\n",
    "a3 = pd.DataFrame([mProps['setA3-1'],pProps['setA3-1'],kProps['setA3-1'],dProps['setA3-1']]).transpose()\n",
    "a3.columns = ['actual','metaphlan','kraken','dmnd']\n",
    "a3 = a3.fillna(0)\n",
    "\n",
    "print(a1.head())\n",
    "print(a2.head())\n"
   ]
  },
  {
   "cell_type": "code",
   "execution_count": 219,
   "metadata": {
    "collapsed": false
   },
   "outputs": [
    {
     "data": {
      "text/plain": [
       "[1] 21\n",
       "[1] 8\n",
       "[1] 8\n",
       "[1] 6\n",
       "[1] 3\n",
       "[1] 6\n"
      ]
     },
     "metadata": {},
     "output_type": "display_data"
    },
    {
     "data": {
      "image/png": "[encoded data removed]"
     },
     "metadata": {},
     "output_type": "display_data"
    }
   ],
   "source": [
    "%%R -i a1,a2,a3 -w 960 -h 360\n",
    "\n",
    "a1 <- sweep(a1,2,colSums(a1),function(el,n) el/n)\n",
    "    \n",
    "ploto <- function(tool,col,ylab){\n",
    "    \n",
    "    fp <- sum(a1[,tool] > 0.000001 & a1[,'actual'] < 0.000001)\n",
    "    print(fp)\n",
    "    fn <- sum(a1[,tool] < 0.000001 & a1[,'actual'] > 0.000001)\n",
    "    print(fn)\n",
    "    \n",
    "    da1<-ggplot(a1,aes_string(x='actual',y=tool))+\n",
    "        geom_point(size=3,color=col)+\n",
    "        xlim(-0.01,0.3)+\n",
    "        ylim(-0.01,0.3)+\n",
    "        geom_abline()+\n",
    "        labs(x='Actual Proportion',y=ylab)+\n",
    "        theme_minimal()+\n",
    "        annotate(\"text\",x=0.25,y=0.15,size=6,label=sprintf(\"FP: %d\",fp))+\n",
    "        annotate(\"text\",x=0.25,y=0.132,size=6,label=sprintf(\"FN: %d\",fn))\n",
    "    \n",
    "    return(da1)\n",
    "    \n",
    "}\n",
    "    \n",
    "\n",
    "# da1<-ggplot(a1,aes(x=actual,y=dmnd))+\n",
    "#         geom_point(size=3,color='red')+\n",
    "#         xlim(-0.01,0.3)+\n",
    "#         ylim(-0.01,0.3)+\n",
    "#         geom_abline()+\n",
    "#         labs(x='Actual Proportion',y='AC-Diamond+LCA Proportion')+\n",
    "#         theme_minimal()\n",
    "   \n",
    "da1 <- ploto('dmnd','red','AC-Diamond+LCA Proportion')\n",
    "ka1 <- ploto('kraken','green','Kraken Proportion')\n",
    "ma1 <- ploto('metaphlan', 'blue','MetaPhlAn2 Proportion')\n",
    "    \n",
    "# ka1<-ggplot(a1,aes(x=actual,y=kraken))+\n",
    "#         geom_point(size=3,color='green')+\n",
    "#         xlim(-0.01,0.3)+\n",
    "#         ylim(-0.01,0.3)+\n",
    "#         geom_abline()+\n",
    "#         labs(x='Actual Proportion',y='Kraken Proportion')+\n",
    "#         theme_minimal()\n",
    "    \n",
    "# ma1<-ggplot(a1,aes(x=actual,y=metaphlan))+\n",
    "#         geom_point(size=3,color='blue')+\n",
    "#         xlim(-0.01,0.3)+\n",
    "#         ylim(-0.01,0.3)+\n",
    "#         geom_abline()+\n",
    "#         labs(x='Actual Proportion',y='MetaPhlAn2 Proportion')+\n",
    "#         theme_minimal()\n",
    "    \n",
    "    \n",
    "grid.arrange(da1,ka1,ma1, ncol=3)\n"
   ]
  },
  {
   "cell_type": "code",
   "execution_count": 142,
   "metadata": {
    "collapsed": false
   },
   "outputs": [
    {
     "data": {
      "image/png": "[encoded data removed]"
     },
     "metadata": {},
     "output_type": "display_data"
    }
   ],
   "source": [
    "%%R -w 720\n",
    "\n",
    "library(gridExtra)\n",
    "\n",
    "kslo <- c(112.5,109.1,114.8)\n",
    "dslo <- c(191.4,192.6,190.0)\n",
    "mslo <- c(96.7,101.2,100.5)\n",
    "\n",
    "ksloI <- c(5.32,5.32,5.32)\n",
    "dsloI <- c(4.57,4.56,4.57)\n",
    "msloI <- c(7.41,7.36,7.30)\n",
    "\n",
    "stbl <- data.frame(\n",
    "            Tool=c(rep('Kraken',3),rep('Diamond',3),rep('Metaphlan',3)), \n",
    "            slo=c(kslo,dslo,mslo),\n",
    "            sloI=c(ksloI,dsloI,msloI)\n",
    ")\n",
    "p <- ggplot(stbl,aes(x=Tool,y=slo,fill=Tool,color=Tool)) + \n",
    "        geom_boxplot(alpha=0.4) +\n",
    "        geom_point(position=position_jitterdodge(),size=3) +\n",
    "        theme_minimal() +\n",
    "        ylab(\"Sum of Abs. Log Odds Scores\") + \n",
    "        theme(axis.text.x =element_blank(),axis.title.x=element_blank(), legend.position=\"bottom\") +\n",
    "        scale_fill_discrete(\"Tool\")\n",
    "\n",
    "pI <- ggplot(stbl,aes(x=Tool,y=sloI,fill=Tool,color=Tool)) + \n",
    "        geom_boxplot(alpha=0.4) +\n",
    "        geom_point(position=position_jitterdodge(),size=3) +\n",
    "        theme_minimal() +\n",
    "        ylab(\"Sum of Abs. Intersected Log Odds Scores\") + \n",
    "        theme(axis.text.x =element_blank(),axis.title.x=element_blank(), legend.position=\"bottom\") +\n",
    "        scale_fill_discrete(\"Tool\")\n",
    "\n",
    "\n",
    "grid.arrange(p,pI,ncol=2)"
   ]
  },
  {
   "cell_type": "code",
   "execution_count": null,
   "metadata": {
    "collapsed": true
   },
   "outputs": [],
   "source": []
  }
 ],
 "metadata": {
  "kernelspec": {
   "display_name": "Python 2",
   "language": "python",
   "name": "python2"
  },
  "language_info": {
   "codemirror_mode": {
    "name": "ipython",
    "version": 2
   },
   "file_extension": ".py",
   "mimetype": "text/x-python",
   "name": "python",
   "nbconvert_exporter": "python",
   "pygments_lexer": "ipython2",
   "version": "2.7.11"
  }
 },
 "nbformat": 4,
 "nbformat_minor": 0
}
