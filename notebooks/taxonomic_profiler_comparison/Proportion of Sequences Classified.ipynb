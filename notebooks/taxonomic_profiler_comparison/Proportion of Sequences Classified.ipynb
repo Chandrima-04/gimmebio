{
 "cells": [
  {
   "cell_type": "code",
   "execution_count": 1,
   "metadata": {
    "collapsed": false
   },
   "outputs": [
    {
     "name": "stdout",
     "output_type": "stream",
     "text": [
      "Populating the interactive namespace from numpy and matplotlib\n"
     ]
    }
   ],
   "source": [
    "import warnings\n",
    "warnings.filterwarnings('ignore')\n",
    "\n",
    "%load_ext rpy2.ipython\n",
    "\n",
    "%run /gfs/devel/ddanko/notebook-init.py\n",
    "\n",
    "# load R libraries                                                                                    \n",
    "%R invisible(library(ggplot2))\n",
    "%R invisible(library(fastcluster))\n",
    "%R invisible(library(reshape))\n",
    "%R invisible(library(reshape2))\n",
    "%R invisible(library(gplots))\n",
    "%R invisible(library(RSQLite))\n",
    "\n",
    "#set up ggplot2 defaults                                                                              \n",
    "%R theme_set(theme_gray(base_size=18))\n",
    "\n",
    "%pylab inline\n",
    "\n",
    "pylab.rcParams['figure.figsize'] = (10, 6)\n",
    "\n",
    "\n",
    "froot = '/gfs/work/ddanko/taxonomic_profiler_comparison/analysis/actual/'"
   ]
  },
  {
   "cell_type": "code",
   "execution_count": 12,
   "metadata": {
    "collapsed": true
   },
   "outputs": [],
   "source": [
    "import subprocess\n",
    "import gzip\n",
    "\n",
    "def pAlignedDmnd(seqfile,alignfile):\n",
    "    nseqs = countSeqs(seqfile)\n",
    "    naligned = countAligned(alignfile)\n",
    "    return float(naligned) / nseqs\n",
    "    \n",
    "def countSeqs(seqfile):\n",
    "    cmd = \"zcat {} | wc -l\".format(seqfile)\n",
    "    out = subprocess.check_output(cmd,shell=True)\n",
    "    return int(out) / 4\n",
    "\n",
    "def countAligned(alignfile):\n",
    "    aligned = {}\n",
    "    with gzip.open(alignfile) as af:\n",
    "        for line in af:\n",
    "            qid = line.split()[0]\n",
    "            if qid in aligned\n",
    "            aligned[qid] = True\n",
    "    return len(aligned)\n"
   ]
  },
  {
   "cell_type": "code",
   "execution_count": 18,
   "metadata": {
    "collapsed": false
   },
   "outputs": [],
   "source": [
    "seqfile = '/gfs/work/ddanko/taxonomic_profiler_comparison/analysis/actual/g_pig/gpigfecal-dna-R495409.fastq.gz'\n",
    "alignfile = '/gfs/work/ddanko/taxonomic_profiler_comparison/analysis/actual/g_pig/acdmnd.dir/gpigfecal-dna-R495409.acdmnd.tsv.gz'"
   ]
  },
  {
   "cell_type": "code",
   "execution_count": 16,
   "metadata": {
    "collapsed": false
   },
   "outputs": [
    {
     "data": {
      "text/plain": [
       "19165522"
      ]
     },
     "execution_count": 16,
     "metadata": {},
     "output_type": "execute_result"
    }
   ],
   "source": [
    "nseqs = countSeqs(seqfile)\n",
    "nseqs"
   ]
  },
  {
   "cell_type": "code",
   "execution_count": 19,
   "metadata": {
    "collapsed": false
   },
   "outputs": [
    {
     "data": {
      "text/plain": [
       "3659247"
      ]
     },
     "execution_count": 19,
     "metadata": {},
     "output_type": "execute_result"
    }
   ],
   "source": [
    "naligned = countAligned(alignfile)\n",
    "naligned"
   ]
  },
  {
   "cell_type": "code",
   "execution_count": 21,
   "metadata": {
    "collapsed": false
   },
   "outputs": [
    {
     "data": {
      "text/plain": [
       "0.1909286373728824"
      ]
     },
     "execution_count": 21,
     "metadata": {},
     "output_type": "execute_result"
    }
   ],
   "source": [
    "float(naligned)/nseqs"
   ]
  },
  {
   "cell_type": "code",
   "execution_count": 23,
   "metadata": {
    "collapsed": true
   },
   "outputs": [],
   "source": [
    "import gzip\n",
    "\n",
    "def countKrakenClassified(kfile):\n",
    "    nclass = 0\n",
    "    with gzip.open(kfile) as kf:\n",
    "        for line in kf:\n",
    "            if line.strip()[0] == 'C':\n",
    "                nclass += 1\n",
    "    return nclass"
   ]
  },
  {
   "cell_type": "code",
   "execution_count": 24,
   "metadata": {
    "collapsed": false
   },
   "outputs": [
    {
     "data": {
      "text/plain": [
       "1144232"
      ]
     },
     "execution_count": 24,
     "metadata": {},
     "output_type": "execute_result"
    }
   ],
   "source": [
    "kfile = '/gfs/work/ddanko/taxonomic_profiler_comparison/analysis/actual/g_pig/kraken.dir/gpigfecal-dna-R495409.classified.tsv.gz'\n",
    "\n",
    "nkraken = countKrakenClassified(kfile)\n",
    "nkraken"
   ]
  },
  {
   "cell_type": "code",
   "execution_count": 25,
   "metadata": {
    "collapsed": false
   },
   "outputs": [
    {
     "data": {
      "text/plain": [
       "0.059702626414245334"
      ]
     },
     "execution_count": 25,
     "metadata": {},
     "output_type": "execute_result"
    }
   ],
   "source": [
    "float(nkraken)/nseqs"
   ]
  },
  {
   "cell_type": "code",
   "execution_count": 33,
   "metadata": {
    "collapsed": true
   },
   "outputs": [],
   "source": [
    "import os\n",
    "import glob\n",
    "\n",
    "def findClassFiles(seqfile):\n",
    "    root = os.path.dirname(seqfile)\n",
    "    base = os.path.basename(seqfile)\n",
    "    base = base[:base.index('.fastq.gz')]\n",
    "    \n",
    "    adFile = '{}/acdmnd.dir/{}.acdmnd.tsv.gz'.format(root,base)\n",
    "    adfFile = '{}/acdmndfast.dir/{}.acdmndfast.tsv.gz'.format(root,base)\n",
    "    kFile = '{}/kraken.dir/{}.classified.tsv.gz'.format(root,base)\n",
    "    \n",
    "    files = {}\n",
    "    if os.path.isfile(adFile):\n",
    "        files['acdmnd'] = adFile\n",
    "    if os.path.isfile(adfFile):\n",
    "        files['acdmndfast'] = adfFile\n",
    "    if os.path.isfile(kFile):\n",
    "        files['kraken'] = kFile\n",
    "        \n",
    "    return files\n",
    "\n",
    "def processClassFiles(seqfile,classfiles):\n",
    "    counts = {}\n",
    "    counts['nseqs'] = countSeqs(seqfile)\n",
    "    for tool, classfile in classfiles.items():\n",
    "        if tool in ('acdmnd','acdmndfast'):\n",
    "            counts[tool] = countAligned(classfile)\n",
    "        elif tool == 'kraken':\n",
    "            counts[tool] = countKrakenClassified(classfile)\n",
    "    return counts\n",
    "\n",
    "def findSet(fastqglob):\n",
    "    fastqs = glob.glob(fastqglob)\n",
    "    allfiles = {}\n",
    "    for fastq in fastqs:\n",
    "        base = os.path.basename(fastq)\n",
    "        base = base[:base.index('.fastq.gz')]\n",
    "        classfiles = findClassFiles(fastq)\n",
    "        counts = processClassFiles(fastq,classfiles)\n",
    "        allfiles[base] = counts\n",
    "    return allfiles\n",
    "\n",
    "\n",
    "\n",
    "\n"
   ]
  },
  {
   "cell_type": "code",
   "execution_count": null,
   "metadata": {
    "collapsed": false
   },
   "outputs": [],
   "source": [
    "fastqglob = '/gfs/work/ddanko/taxonomic_profiler_comparison/analysis/actual/*/*.fastq.gz'\n",
    "allfiles = findSet(fastqglob)\n",
    "allfiles"
   ]
  },
  {
   "cell_type": "code",
   "execution_count": null,
   "metadata": {
    "collapsed": false
   },
   "outputs": [],
   "source": [
    "\n",
    "import numpy as np\n",
    "import pandas as pd\n",
    "\n",
    "df = pd.DataFrame(allfiles)\n",
    "df = df.transpose()\n",
    "df\n"
   ]
  },
  {
   "cell_type": "code",
   "execution_count": null,
   "metadata": {
    "collapsed": false
   },
   "outputs": [],
   "source": [
    "100 * df.div(df.nseqs,axis='index')"
   ]
  },
  {
   "cell_type": "code",
   "execution_count": null,
   "metadata": {
    "collapsed": true
   },
   "outputs": [],
   "source": []
  }
 ],
 "metadata": {
  "kernelspec": {
   "display_name": "Python 2",
   "language": "python",
   "name": "python2"
  },
  "language_info": {
   "codemirror_mode": {
    "name": "ipython",
    "version": 2
   },
   "file_extension": ".py",
   "mimetype": "text/x-python",
   "name": "python",
   "nbconvert_exporter": "python",
   "pygments_lexer": "ipython2",
   "version": "2.7.11"
  }
 },
 "nbformat": 4,
 "nbformat_minor": 0
}
